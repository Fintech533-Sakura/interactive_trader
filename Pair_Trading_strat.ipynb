{
 "cells": [
  {
   "cell_type": "code",
   "execution_count": 1,
   "metadata": {
    "pycharm": {
     "name": "#%%\n"
    }
   },
   "outputs": [],
   "source": [
    "# !pip install pandas\n",
    "# !pip install plotly\n",
    "# !pip install matplotlib"
   ]
  },
  {
   "cell_type": "code",
   "execution_count": 2,
   "metadata": {
    "pycharm": {
     "name": "#%%\n"
    }
   },
   "outputs": [],
   "source": [
    "import numpy as np\n",
    "import pandas as pd\n",
    "import matplotlib.pyplot as plt"
   ]
  },
  {
   "cell_type": "markdown",
   "metadata": {
    "pycharm": {
     "name": "#%% md\n"
    }
   },
   "source": [
    "## Step 1 Import historical price data\n",
    "\n",
    "Read in the data file"
   ]
  },
  {
   "cell_type": "code",
   "execution_count": 3,
   "metadata": {
    "pycharm": {
     "name": "#%%\n"
    }
   },
   "outputs": [],
   "source": [
    "df = pd.read_csv(\"sakura_data.csv\")\n",
    "col = list(df.columns)\n",
    "# df.head()"
   ]
  },
  {
   "cell_type": "markdown",
   "metadata": {
    "pycharm": {
     "name": "#%% md\n"
    }
   },
   "source": [
    "Read Marriott and Hilton's data into different Data frame"
   ]
  },
  {
   "cell_type": "code",
   "execution_count": 4,
   "metadata": {
    "pycharm": {
     "name": "#%%\n"
    }
   },
   "outputs": [],
   "source": [
    "col_mar = col[:9]\n",
    "col_hlt = col[-8:]\n",
    "col_hlt.insert(0,\"Date\")\n",
    "df_mar = pd.read_csv(\"sakura_data.csv\",usecols=col_mar)\n",
    "df_hlt = pd.read_csv(\"sakura_data.csv\",usecols=col_hlt)\n",
    "# print(df_mar.head())\n",
    "# print(df_hlt.head())"
   ]
  },
  {
   "cell_type": "markdown",
   "metadata": {
    "pycharm": {
     "name": "#%% md\n"
    }
   },
   "source": [
    "## Step 2 Set parameters\n",
    "x, threshold"
   ]
  },
  {
   "cell_type": "code",
   "execution_count": 5,
   "metadata": {
    "pycharm": {
     "name": "#%%\n"
    }
   },
   "outputs": [],
   "source": [
    "x = 1\n",
    "THRESHOLD = 1.5"
   ]
  },
  {
   "cell_type": "markdown",
   "metadata": {
    "pycharm": {
     "name": "#%% md\n"
    }
   },
   "source": [
    "## Step 3 Calculate Spread, Standard Deviation of spread and Long Term Mean"
   ]
  },
  {
   "cell_type": "code",
   "execution_count": 6,
   "metadata": {
    "pycharm": {
     "name": "#%%\n"
    },
    "scrolled": true
   },
   "outputs": [],
   "source": [
    "spread = np.log(df.mar_Close/df.hlt_Close**x)\n",
    "# print(spread)\n",
    "# print(type(spread))\n",
    "window_size = 250\n",
    "std_spread = pd.Series(spread[1:]).rolling(window_size).std(ddof=1)\n",
    "std_spread = np.asarray(std_spread[window_size-1:-1])\n",
    "# print(std_spread)\n",
    "lt_mean_spread = pd.Series(spread[1:]).rolling(window_size).mean()\n",
    "lt_mean_spread = np.asarray(lt_mean_spread[window_size-1:-1])\n",
    "# print(lt_mean_spread)\n",
    "# print(type(std_spread))\n",
    "# lt_mean_spread"
   ]
  },
  {
   "cell_type": "markdown",
   "metadata": {
    "pycharm": {
     "name": "#%% md\n"
    }
   },
   "source": [
    "## Step 4 Calculate Entry Signal"
   ]
  },
  {
   "cell_type": "code",
   "execution_count": null,
   "outputs": [],
   "source": [
    "low = lt_mean_spread - THRESHOLD * std_spread\n",
    "go_down = spread[:len(lt_mean_spread)] < low\n",
    "high = lt_mean_spread + THRESHOLD * std_spread\n",
    "go_up = spread[:len(lt_mean_spread)] > high\n",
    "date = df_mar.Date[:len(lt_mean_spread)]\n",
    "hlt_Open = df_hlt.hlt_Open[:len(lt_mean_spread)]\n",
    "mar_Open = df_mar.mar_Open[:len(lt_mean_spread)]\n",
    "\n",
    "mydf = pd.DataFrame(data = date)\n",
    "mydf['Low'] = go_down\n",
    "mydf['High'] = go_up\n",
    "mydf['hlt_Open'] = hlt_Open\n",
    "mydf['mar_Open'] = mar_Open\n",
    "mydf = mydf.reset_index()  # make sure indexes pair with number of rows\n"
   ],
   "metadata": {
    "collapsed": false,
    "pycharm": {
     "name": "#%%\n"
    }
   }
  },
  {
   "cell_type": "code",
   "execution_count": null,
   "outputs": [],
   "source": [],
   "metadata": {
    "collapsed": false,
    "pycharm": {
     "name": "#%%\n"
    }
   }
  },
  {
   "cell_type": "code",
   "execution_count": null,
   "outputs": [],
   "source": [
    "plt.figure(figsize=(20,15))\n",
    "plt.plot(spread[:len(lt_mean_spread)])\n",
    "plt.plot(low, linestyle='--')\n",
    "plt.plot(high,linestyle='--')"
   ],
   "metadata": {
    "collapsed": false,
    "pycharm": {
     "name": "#%%\n"
    }
   }
  },
  {
   "cell_type": "markdown",
   "source": [
    "## Step 5 Output as a Blotter\n",
    "Reference: <a href=\"https://pypi.org/project/QTPyLib/\" target=\"_blank\">QTPyLib 1.5.83</a>."
   ],
   "metadata": {
    "collapsed": false,
    "pycharm": {
     "name": "#%% md\n"
    }
   }
  },
  {
   "cell_type": "code",
   "execution_count": null,
   "outputs": [],
   "source": [
    "# !pip install blotter"
   ],
   "metadata": {
    "collapsed": false,
    "pycharm": {
     "name": "#%%\n"
    }
   }
  },
  {
   "cell_type": "code",
   "execution_count": null,
   "outputs": [],
   "source": [],
   "metadata": {
    "collapsed": false,
    "pycharm": {
     "name": "#%%\n"
    }
   }
  },
  {
   "cell_type": "code",
   "execution_count": null,
   "outputs": [],
   "source": [
    "\n",
    "blotter = pd.DataFrame(\n",
    "    columns=['date', 'trip', 'action', 'ticker', 'size',\n",
    "             'price', 'status']\n",
    ")\n",
    "for index, row in mydf.iterrows():\n",
    "    if row[\"Low\"] == True:\n",
    "        blotter.loc[len(blotter.index)] = [row[\"Date\"], 'Open', 'BUY', 'MAR', 1, row[\"mar_Open\"], 'FILLED']\n",
    "        blotter.loc[len(blotter.index)] = [row[\"Date\"], 'Open', 'SELL', 'HIT', 1, row[\"hlt_Open\"], 'FILLED']\n",
    "    elif row[\"High\"] == True:\n",
    "        blotter.loc[len(blotter.index)] = [row[\"Date\"], 'Open', 'SELL', 'MAR', 1, row[\"mar_Open\"], 'FILLED']\n",
    "        blotter.loc[len(blotter.index)] = [row[\"Date\"], 'Open', 'BUY', 'HIT', 1, row[\"hlt_Open\"], 'FILLED']\n"
   ],
   "metadata": {
    "collapsed": false,
    "pycharm": {
     "name": "#%%\n"
    }
   }
  },
  {
   "cell_type": "raw",
   "metadata": {
    "pycharm": {
     "name": "#%%\n"
    }
   },
   "source": []
  },
  {
   "cell_type": "code",
   "execution_count": 12,
   "metadata": {},
   "outputs": [
    {
     "data": {
      "text/html": [
       "<div>\n",
       "<style scoped>\n",
       "    .dataframe tbody tr th:only-of-type {\n",
       "        vertical-align: middle;\n",
       "    }\n",
       "\n",
       "    .dataframe tbody tr th {\n",
       "        vertical-align: top;\n",
       "    }\n",
       "\n",
       "    .dataframe thead th {\n",
       "        text-align: right;\n",
       "    }\n",
       "</style>\n",
       "<table border=\"1\" class=\"dataframe\">\n",
       "  <thead>\n",
       "    <tr style=\"text-align: right;\">\n",
       "      <th></th>\n",
       "      <th>date</th>\n",
       "      <th>trip</th>\n",
       "      <th>action</th>\n",
       "      <th>ticker</th>\n",
       "      <th>size</th>\n",
       "      <th>price</th>\n",
       "      <th>status</th>\n",
       "    </tr>\n",
       "  </thead>\n",
       "  <tbody>\n",
       "    <tr>\n",
       "      <th>0</th>\n",
       "      <td>2022-01-03</td>\n",
       "      <td>Open</td>\n",
       "      <td>SELL</td>\n",
       "      <td>MAR</td>\n",
       "      <td>1</td>\n",
       "      <td>155.95</td>\n",
       "      <td>FILLED</td>\n",
       "    </tr>\n",
       "    <tr>\n",
       "      <th>1</th>\n",
       "      <td>2022-01-03</td>\n",
       "      <td>Open</td>\n",
       "      <td>BUY</td>\n",
       "      <td>HIT</td>\n",
       "      <td>1</td>\n",
       "      <td>165.07</td>\n",
       "      <td>FILLED</td>\n",
       "    </tr>\n",
       "    <tr>\n",
       "      <th>2</th>\n",
       "      <td>2021-12-31</td>\n",
       "      <td>Open</td>\n",
       "      <td>SELL</td>\n",
       "      <td>MAR</td>\n",
       "      <td>1</td>\n",
       "      <td>154.83</td>\n",
       "      <td>FILLED</td>\n",
       "    </tr>\n",
       "    <tr>\n",
       "      <th>3</th>\n",
       "      <td>2021-12-31</td>\n",
       "      <td>Open</td>\n",
       "      <td>BUY</td>\n",
       "      <td>HIT</td>\n",
       "      <td>1</td>\n",
       "      <td>164.85</td>\n",
       "      <td>FILLED</td>\n",
       "    </tr>\n",
       "    <tr>\n",
       "      <th>4</th>\n",
       "      <td>2021-12-30</td>\n",
       "      <td>Open</td>\n",
       "      <td>SELL</td>\n",
       "      <td>MAR</td>\n",
       "      <td>1</td>\n",
       "      <td>155.38</td>\n",
       "      <td>FILLED</td>\n",
       "    </tr>\n",
       "    <tr>\n",
       "      <th>...</th>\n",
       "      <td>...</td>\n",
       "      <td>...</td>\n",
       "      <td>...</td>\n",
       "      <td>...</td>\n",
       "      <td>...</td>\n",
       "      <td>...</td>\n",
       "      <td>...</td>\n",
       "    </tr>\n",
       "    <tr>\n",
       "      <th>683</th>\n",
       "      <td>2018-02-01</td>\n",
       "      <td>Open</td>\n",
       "      <td>SELL</td>\n",
       "      <td>HIT</td>\n",
       "      <td>1</td>\n",
       "      <td>146.60</td>\n",
       "      <td>FILLED</td>\n",
       "    </tr>\n",
       "    <tr>\n",
       "      <th>684</th>\n",
       "      <td>2018-01-31</td>\n",
       "      <td>Open</td>\n",
       "      <td>BUY</td>\n",
       "      <td>MAR</td>\n",
       "      <td>1</td>\n",
       "      <td>86.52</td>\n",
       "      <td>FILLED</td>\n",
       "    </tr>\n",
       "    <tr>\n",
       "      <th>685</th>\n",
       "      <td>2018-01-31</td>\n",
       "      <td>Open</td>\n",
       "      <td>SELL</td>\n",
       "      <td>HIT</td>\n",
       "      <td>1</td>\n",
       "      <td>147.42</td>\n",
       "      <td>FILLED</td>\n",
       "    </tr>\n",
       "    <tr>\n",
       "      <th>686</th>\n",
       "      <td>2018-01-30</td>\n",
       "      <td>Open</td>\n",
       "      <td>BUY</td>\n",
       "      <td>MAR</td>\n",
       "      <td>1</td>\n",
       "      <td>86.50</td>\n",
       "      <td>FILLED</td>\n",
       "    </tr>\n",
       "    <tr>\n",
       "      <th>687</th>\n",
       "      <td>2018-01-30</td>\n",
       "      <td>Open</td>\n",
       "      <td>SELL</td>\n",
       "      <td>HIT</td>\n",
       "      <td>1</td>\n",
       "      <td>148.22</td>\n",
       "      <td>FILLED</td>\n",
       "    </tr>\n",
       "  </tbody>\n",
       "</table>\n",
       "<p>688 rows × 7 columns</p>\n",
       "</div>"
      ],
      "text/plain": [
       "           date  trip action ticker  size   price  status\n",
       "0    2022-01-03  Open   SELL    MAR     1  155.95  FILLED\n",
       "1    2022-01-03  Open    BUY    HIT     1  165.07  FILLED\n",
       "2    2021-12-31  Open   SELL    MAR     1  154.83  FILLED\n",
       "3    2021-12-31  Open    BUY    HIT     1  164.85  FILLED\n",
       "4    2021-12-30  Open   SELL    MAR     1  155.38  FILLED\n",
       "..          ...   ...    ...    ...   ...     ...     ...\n",
       "683  2018-02-01  Open   SELL    HIT     1  146.60  FILLED\n",
       "684  2018-01-31  Open    BUY    MAR     1   86.52  FILLED\n",
       "685  2018-01-31  Open   SELL    HIT     1  147.42  FILLED\n",
       "686  2018-01-30  Open    BUY    MAR     1   86.50  FILLED\n",
       "687  2018-01-30  Open   SELL    HIT     1  148.22  FILLED\n",
       "\n",
       "[688 rows x 7 columns]"
      ]
     },
     "execution_count": 12,
     "metadata": {},
     "output_type": "execute_result"
    }
   ],
   "source": [
    "\n",
    "blotter = pd.DataFrame(\n",
    "    columns=['date', 'trip', 'action', 'ticker', 'size',\n",
    "             'price', 'status']\n",
    ")\n",
    "for index, row in mydf.iterrows():\n",
    "    if row[\"Low\"] == True:\n",
    "        blotter.loc[len(blotter.index)] = [row[\"Date\"], 'Open', 'BUY', 'MAR', 1, row[\"mar_Open\"], 'FILLED']\n",
    "        blotter.loc[len(blotter.index)] = [row[\"Date\"], 'Open', 'SELL', 'HIT', 1, row[\"hlt_Open\"], 'FILLED']\n",
    "    elif row[\"High\"] == True:\n",
    "        blotter.loc[len(blotter.index)] = [row[\"Date\"], 'Open', 'SELL', 'MAR', 1, row[\"mar_Open\"], 'FILLED']\n",
    "        blotter.loc[len(blotter.index)] = [row[\"Date\"], 'Open', 'BUY', 'HIT', 1, row[\"hlt_Open\"], 'FILLED']\n"
   ]
  },
  {
   "cell_type": "code",
   "execution_count": null,
   "metadata": {},
   "outputs": [],
   "source": []
  }
 ],
 "metadata": {
  "kernelspec": {
   "display_name": "Python 3 (ipykernel)",
   "language": "python",
   "name": "python3"
  },
  "language_info": {
   "codemirror_mode": {
    "name": "ipython",
    "version": 3
   },
   "file_extension": ".py",
   "mimetype": "text/x-python",
   "name": "python",
   "nbconvert_exporter": "python",
   "pygments_lexer": "ipython3",
   "version": "3.9.10"
  }
 },
 "nbformat": 4,
 "nbformat_minor": 1
}