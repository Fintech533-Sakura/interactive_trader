{
 "cells": [
  {
   "cell_type": "code",
   "execution_count": 1,
   "metadata": {
    "pycharm": {
     "name": "#%%\n"
    }
   },
   "outputs": [],
   "source": [
    "# !pip install pandas\n",
    "# !pip install plotly\n",
    "# !pip install matplotlib"
   ]
  },
  {
   "cell_type": "code",
   "execution_count": 2,
   "metadata": {
    "pycharm": {
     "name": "#%%\n"
    }
   },
   "outputs": [],
   "source": [
    "import numpy as np\n",
    "import pandas as pd\n",
    "import matplotlib.pyplot as plt"
   ]
  },
  {
   "cell_type": "markdown",
   "metadata": {
    "pycharm": {
     "name": "#%% md\n"
    }
   },
   "source": [
    "## Step 1 Import historical price data\n",
    "\n",
    "Read in the data file"
   ]
  },
  {
   "cell_type": "code",
   "execution_count": 13,
   "metadata": {
    "pycharm": {
     "name": "#%%\n"
    }
   },
   "outputs": [
    {
     "data": {
      "text/plain": "         Date  mar_Open  mar_High  mar_Low  mar_Close  mar_Volume    mar_TWAP  \\\n0  2022-04-14    154.46    157.33  153.900     155.58     2351189  156.193286   \n1  2022-04-13    146.41    154.28  145.670     153.93     2502524  152.220619   \n2  2022-04-12    145.00    146.95  143.855     144.88     1698245  145.151792   \n3  2022-04-11    144.30    147.19  143.630     143.70     1165117  144.762850   \n4  2022-04-08    144.71    147.05  143.835     145.48     1646722  145.905663   \n\n     mar_VWAP mar_PreviousCloseDate  hlt_Open  hlt_High  hlt_Low  hlt_Close  \\\n0  156.097372            2022-04-13    176.20    181.52   176.20     180.51   \n1  152.227673            2022-04-12    164.16    176.25   164.01     175.54   \n2  145.136644            2022-04-11    164.63    165.96   162.28     163.24   \n3  144.639514            2022-04-08    161.96    165.56   161.66     162.45   \n4  145.688317            2022-04-07    163.61    165.31   162.40     163.86   \n\n   hlt_Volume    hlt_TWAP    hlt_VWAP hlt_PreviousCloseDate  \n0     3631673  179.825305  179.751564            2022-04-13  \n1     3343813  173.458879  173.566893            2022-04-12  \n2     1549813  164.137751  164.134370            2022-04-11  \n3     1402520  163.266856  163.091197            2022-04-08  \n4     1522384  164.147805  164.046751            2022-04-07  ",
      "text/html": "<div>\n<style scoped>\n    .dataframe tbody tr th:only-of-type {\n        vertical-align: middle;\n    }\n\n    .dataframe tbody tr th {\n        vertical-align: top;\n    }\n\n    .dataframe thead th {\n        text-align: right;\n    }\n</style>\n<table border=\"1\" class=\"dataframe\">\n  <thead>\n    <tr style=\"text-align: right;\">\n      <th></th>\n      <th>Date</th>\n      <th>mar_Open</th>\n      <th>mar_High</th>\n      <th>mar_Low</th>\n      <th>mar_Close</th>\n      <th>mar_Volume</th>\n      <th>mar_TWAP</th>\n      <th>mar_VWAP</th>\n      <th>mar_PreviousCloseDate</th>\n      <th>hlt_Open</th>\n      <th>hlt_High</th>\n      <th>hlt_Low</th>\n      <th>hlt_Close</th>\n      <th>hlt_Volume</th>\n      <th>hlt_TWAP</th>\n      <th>hlt_VWAP</th>\n      <th>hlt_PreviousCloseDate</th>\n    </tr>\n  </thead>\n  <tbody>\n    <tr>\n      <th>0</th>\n      <td>2022-04-14</td>\n      <td>154.46</td>\n      <td>157.33</td>\n      <td>153.900</td>\n      <td>155.58</td>\n      <td>2351189</td>\n      <td>156.193286</td>\n      <td>156.097372</td>\n      <td>2022-04-13</td>\n      <td>176.20</td>\n      <td>181.52</td>\n      <td>176.20</td>\n      <td>180.51</td>\n      <td>3631673</td>\n      <td>179.825305</td>\n      <td>179.751564</td>\n      <td>2022-04-13</td>\n    </tr>\n    <tr>\n      <th>1</th>\n      <td>2022-04-13</td>\n      <td>146.41</td>\n      <td>154.28</td>\n      <td>145.670</td>\n      <td>153.93</td>\n      <td>2502524</td>\n      <td>152.220619</td>\n      <td>152.227673</td>\n      <td>2022-04-12</td>\n      <td>164.16</td>\n      <td>176.25</td>\n      <td>164.01</td>\n      <td>175.54</td>\n      <td>3343813</td>\n      <td>173.458879</td>\n      <td>173.566893</td>\n      <td>2022-04-12</td>\n    </tr>\n    <tr>\n      <th>2</th>\n      <td>2022-04-12</td>\n      <td>145.00</td>\n      <td>146.95</td>\n      <td>143.855</td>\n      <td>144.88</td>\n      <td>1698245</td>\n      <td>145.151792</td>\n      <td>145.136644</td>\n      <td>2022-04-11</td>\n      <td>164.63</td>\n      <td>165.96</td>\n      <td>162.28</td>\n      <td>163.24</td>\n      <td>1549813</td>\n      <td>164.137751</td>\n      <td>164.134370</td>\n      <td>2022-04-11</td>\n    </tr>\n    <tr>\n      <th>3</th>\n      <td>2022-04-11</td>\n      <td>144.30</td>\n      <td>147.19</td>\n      <td>143.630</td>\n      <td>143.70</td>\n      <td>1165117</td>\n      <td>144.762850</td>\n      <td>144.639514</td>\n      <td>2022-04-08</td>\n      <td>161.96</td>\n      <td>165.56</td>\n      <td>161.66</td>\n      <td>162.45</td>\n      <td>1402520</td>\n      <td>163.266856</td>\n      <td>163.091197</td>\n      <td>2022-04-08</td>\n    </tr>\n    <tr>\n      <th>4</th>\n      <td>2022-04-08</td>\n      <td>144.71</td>\n      <td>147.05</td>\n      <td>143.835</td>\n      <td>145.48</td>\n      <td>1646722</td>\n      <td>145.905663</td>\n      <td>145.688317</td>\n      <td>2022-04-07</td>\n      <td>163.61</td>\n      <td>165.31</td>\n      <td>162.40</td>\n      <td>163.86</td>\n      <td>1522384</td>\n      <td>164.147805</td>\n      <td>164.046751</td>\n      <td>2022-04-07</td>\n    </tr>\n  </tbody>\n</table>\n</div>"
     },
     "execution_count": 13,
     "metadata": {},
     "output_type": "execute_result"
    }
   ],
   "source": [
    "df = pd.read_csv(\"sakura_data.csv\")\n",
    "col = list(df.columns)\n",
    "df.head()"
   ]
  },
  {
   "cell_type": "markdown",
   "metadata": {
    "pycharm": {
     "name": "#%% md\n"
    }
   },
   "source": [
    "Read Marriott and Hilton's data into different Data frame"
   ]
  },
  {
   "cell_type": "code",
   "execution_count": 4,
   "metadata": {
    "pycharm": {
     "name": "#%%\n"
    }
   },
   "outputs": [],
   "source": [
    "col_mar = col[:9]\n",
    "col_hlt = col[-8:]\n",
    "col_hlt.insert(0,\"Date\")\n",
    "df_mar = pd.read_csv(\"sakura_data.csv\",usecols=col_mar)\n",
    "df_hlt = pd.read_csv(\"sakura_data.csv\",usecols=col_hlt)\n",
    "# print(df_mar.head())\n",
    "# print(df_hlt.head())"
   ]
  },
  {
   "cell_type": "markdown",
   "metadata": {
    "pycharm": {
     "name": "#%% md\n"
    }
   },
   "source": [
    "## Step 2 Set parameters\n",
    "x, threshold"
   ]
  },
  {
   "cell_type": "code",
   "execution_count": 5,
   "metadata": {
    "pycharm": {
     "name": "#%%\n"
    }
   },
   "outputs": [],
   "source": [
    "x = 1\n",
    "THRESHOLD = 1.5"
   ]
  },
  {
   "cell_type": "markdown",
   "metadata": {
    "pycharm": {
     "name": "#%% md\n"
    }
   },
   "source": [
    "## Step 3 Calculate Spread, Standard Deviation of spread and Long Term Mean"
   ]
  },
  {
   "cell_type": "code",
   "execution_count": 6,
   "metadata": {
    "pycharm": {
     "name": "#%%\n"
    },
    "scrolled": true
   },
   "outputs": [],
   "source": [
    "spread = np.log(df.mar_Close/df.hlt_Close**x)\n",
    "# print(spread)\n",
    "# print(type(spread))\n",
    "window_size = 250\n",
    "std_spread = pd.Series(spread[1:]).rolling(window_size).std(ddof=1)\n",
    "std_spread = np.asarray(std_spread[window_size-1:-1])\n",
    "# print(std_spread)\n",
    "lt_mean_spread = pd.Series(spread[1:]).rolling(window_size).mean()\n",
    "lt_mean_spread = np.asarray(lt_mean_spread[window_size-1:-1])\n",
    "# print(lt_mean_spread)\n",
    "# print(type(std_spread))\n",
    "# lt_mean_spread"
   ]
  },
  {
   "cell_type": "code",
   "execution_count": 15,
   "outputs": [
    {
     "data": {
      "text/plain": "            Date  mar_Open  mar_High  mar_Low  mar_Close  mar_Volume  \\\n0     2022-04-14    154.46   157.330  153.900     155.58     2351189   \n1     2022-04-13    146.41   154.280  145.670     153.93     2502524   \n2     2022-04-12    145.00   146.950  143.855     144.88     1698245   \n3     2022-04-11    144.30   147.190  143.630     143.70     1165117   \n4     2022-04-08    144.71   147.050  143.835     145.48     1646722   \n...          ...       ...       ...      ...        ...         ...   \n1326  2017-01-09     57.30    57.300   56.480      56.96     3921784   \n1327  2017-01-06     57.18    57.560   56.230      57.47     3358993   \n1328  2017-01-05     58.06    58.420   56.840      57.32     5122197   \n1329  2017-01-04     57.30    59.755   57.300      58.00     5614786   \n1330  2017-01-03     27.57    27.620   27.000      27.39     6829108   \n\n        mar_TWAP    mar_VWAP mar_PreviousCloseDate  hlt_Open  hlt_High  \\\n0     156.193286  156.097372            2022-04-13    176.20   181.520   \n1     152.220619  152.227673            2022-04-12    164.16   176.250   \n2     145.151792  145.136644            2022-04-11    164.63   165.960   \n3     144.762850  144.639514            2022-04-08    161.96   165.560   \n4     145.905663  145.688317            2022-04-07    163.61   165.310   \n...          ...         ...                   ...       ...       ...   \n1326   57.041195   57.027859            2017-01-06     82.05    82.700   \n1327   57.072050   57.085309            2017-01-05     81.79    83.020   \n1328   57.567532   57.542856            2017-01-04     82.07    83.070   \n1329   58.553356   58.563773            2017-01-03     82.74    83.395   \n1330   27.254754   27.282810            2016-12-30     83.35    83.850   \n\n      hlt_Low  hlt_Close  hlt_Volume    hlt_TWAP    hlt_VWAP  \\\n0     176.200     180.51     3631673  179.825305  179.751564   \n1     164.010     175.54     3343813  173.458879  173.566893   \n2     162.280     163.24     1549813  164.137751  164.134370   \n3     161.660     162.45     1402520  163.266856  163.091197   \n4     162.400     163.86     1522384  164.147805  164.046751   \n...       ...        ...         ...         ...         ...   \n1326   81.600      82.25     2643139   82.292654   82.283683   \n1327   81.325      82.30     2306221   82.353798   82.343484   \n1328   81.660      81.78     2828243   82.108710   82.093740   \n1329   82.250      82.34     4016215   82.566185   82.500310   \n1330   81.710      82.50     3277092   82.573600   82.575523   \n\n     hlt_PreviousCloseDate    spread  \n0               2022-04-13 -0.148626  \n1               2022-04-12 -0.131369  \n2               2022-04-11 -0.119316  \n3               2022-04-08 -0.122642  \n4               2022-04-07 -0.118974  \n...                    ...       ...  \n1326            2017-01-06 -0.367414  \n1327            2017-01-05 -0.359108  \n1328            2017-01-04 -0.355383  \n1329            2017-01-03 -0.350414  \n1330            2016-12-30 -1.102620  \n\n[1331 rows x 18 columns]",
      "text/html": "<div>\n<style scoped>\n    .dataframe tbody tr th:only-of-type {\n        vertical-align: middle;\n    }\n\n    .dataframe tbody tr th {\n        vertical-align: top;\n    }\n\n    .dataframe thead th {\n        text-align: right;\n    }\n</style>\n<table border=\"1\" class=\"dataframe\">\n  <thead>\n    <tr style=\"text-align: right;\">\n      <th></th>\n      <th>Date</th>\n      <th>mar_Open</th>\n      <th>mar_High</th>\n      <th>mar_Low</th>\n      <th>mar_Close</th>\n      <th>mar_Volume</th>\n      <th>mar_TWAP</th>\n      <th>mar_VWAP</th>\n      <th>mar_PreviousCloseDate</th>\n      <th>hlt_Open</th>\n      <th>hlt_High</th>\n      <th>hlt_Low</th>\n      <th>hlt_Close</th>\n      <th>hlt_Volume</th>\n      <th>hlt_TWAP</th>\n      <th>hlt_VWAP</th>\n      <th>hlt_PreviousCloseDate</th>\n      <th>spread</th>\n    </tr>\n  </thead>\n  <tbody>\n    <tr>\n      <th>0</th>\n      <td>2022-04-14</td>\n      <td>154.46</td>\n      <td>157.330</td>\n      <td>153.900</td>\n      <td>155.58</td>\n      <td>2351189</td>\n      <td>156.193286</td>\n      <td>156.097372</td>\n      <td>2022-04-13</td>\n      <td>176.20</td>\n      <td>181.520</td>\n      <td>176.200</td>\n      <td>180.51</td>\n      <td>3631673</td>\n      <td>179.825305</td>\n      <td>179.751564</td>\n      <td>2022-04-13</td>\n      <td>-0.148626</td>\n    </tr>\n    <tr>\n      <th>1</th>\n      <td>2022-04-13</td>\n      <td>146.41</td>\n      <td>154.280</td>\n      <td>145.670</td>\n      <td>153.93</td>\n      <td>2502524</td>\n      <td>152.220619</td>\n      <td>152.227673</td>\n      <td>2022-04-12</td>\n      <td>164.16</td>\n      <td>176.250</td>\n      <td>164.010</td>\n      <td>175.54</td>\n      <td>3343813</td>\n      <td>173.458879</td>\n      <td>173.566893</td>\n      <td>2022-04-12</td>\n      <td>-0.131369</td>\n    </tr>\n    <tr>\n      <th>2</th>\n      <td>2022-04-12</td>\n      <td>145.00</td>\n      <td>146.950</td>\n      <td>143.855</td>\n      <td>144.88</td>\n      <td>1698245</td>\n      <td>145.151792</td>\n      <td>145.136644</td>\n      <td>2022-04-11</td>\n      <td>164.63</td>\n      <td>165.960</td>\n      <td>162.280</td>\n      <td>163.24</td>\n      <td>1549813</td>\n      <td>164.137751</td>\n      <td>164.134370</td>\n      <td>2022-04-11</td>\n      <td>-0.119316</td>\n    </tr>\n    <tr>\n      <th>3</th>\n      <td>2022-04-11</td>\n      <td>144.30</td>\n      <td>147.190</td>\n      <td>143.630</td>\n      <td>143.70</td>\n      <td>1165117</td>\n      <td>144.762850</td>\n      <td>144.639514</td>\n      <td>2022-04-08</td>\n      <td>161.96</td>\n      <td>165.560</td>\n      <td>161.660</td>\n      <td>162.45</td>\n      <td>1402520</td>\n      <td>163.266856</td>\n      <td>163.091197</td>\n      <td>2022-04-08</td>\n      <td>-0.122642</td>\n    </tr>\n    <tr>\n      <th>4</th>\n      <td>2022-04-08</td>\n      <td>144.71</td>\n      <td>147.050</td>\n      <td>143.835</td>\n      <td>145.48</td>\n      <td>1646722</td>\n      <td>145.905663</td>\n      <td>145.688317</td>\n      <td>2022-04-07</td>\n      <td>163.61</td>\n      <td>165.310</td>\n      <td>162.400</td>\n      <td>163.86</td>\n      <td>1522384</td>\n      <td>164.147805</td>\n      <td>164.046751</td>\n      <td>2022-04-07</td>\n      <td>-0.118974</td>\n    </tr>\n    <tr>\n      <th>...</th>\n      <td>...</td>\n      <td>...</td>\n      <td>...</td>\n      <td>...</td>\n      <td>...</td>\n      <td>...</td>\n      <td>...</td>\n      <td>...</td>\n      <td>...</td>\n      <td>...</td>\n      <td>...</td>\n      <td>...</td>\n      <td>...</td>\n      <td>...</td>\n      <td>...</td>\n      <td>...</td>\n      <td>...</td>\n      <td>...</td>\n    </tr>\n    <tr>\n      <th>1326</th>\n      <td>2017-01-09</td>\n      <td>57.30</td>\n      <td>57.300</td>\n      <td>56.480</td>\n      <td>56.96</td>\n      <td>3921784</td>\n      <td>57.041195</td>\n      <td>57.027859</td>\n      <td>2017-01-06</td>\n      <td>82.05</td>\n      <td>82.700</td>\n      <td>81.600</td>\n      <td>82.25</td>\n      <td>2643139</td>\n      <td>82.292654</td>\n      <td>82.283683</td>\n      <td>2017-01-06</td>\n      <td>-0.367414</td>\n    </tr>\n    <tr>\n      <th>1327</th>\n      <td>2017-01-06</td>\n      <td>57.18</td>\n      <td>57.560</td>\n      <td>56.230</td>\n      <td>57.47</td>\n      <td>3358993</td>\n      <td>57.072050</td>\n      <td>57.085309</td>\n      <td>2017-01-05</td>\n      <td>81.79</td>\n      <td>83.020</td>\n      <td>81.325</td>\n      <td>82.30</td>\n      <td>2306221</td>\n      <td>82.353798</td>\n      <td>82.343484</td>\n      <td>2017-01-05</td>\n      <td>-0.359108</td>\n    </tr>\n    <tr>\n      <th>1328</th>\n      <td>2017-01-05</td>\n      <td>58.06</td>\n      <td>58.420</td>\n      <td>56.840</td>\n      <td>57.32</td>\n      <td>5122197</td>\n      <td>57.567532</td>\n      <td>57.542856</td>\n      <td>2017-01-04</td>\n      <td>82.07</td>\n      <td>83.070</td>\n      <td>81.660</td>\n      <td>81.78</td>\n      <td>2828243</td>\n      <td>82.108710</td>\n      <td>82.093740</td>\n      <td>2017-01-04</td>\n      <td>-0.355383</td>\n    </tr>\n    <tr>\n      <th>1329</th>\n      <td>2017-01-04</td>\n      <td>57.30</td>\n      <td>59.755</td>\n      <td>57.300</td>\n      <td>58.00</td>\n      <td>5614786</td>\n      <td>58.553356</td>\n      <td>58.563773</td>\n      <td>2017-01-03</td>\n      <td>82.74</td>\n      <td>83.395</td>\n      <td>82.250</td>\n      <td>82.34</td>\n      <td>4016215</td>\n      <td>82.566185</td>\n      <td>82.500310</td>\n      <td>2017-01-03</td>\n      <td>-0.350414</td>\n    </tr>\n    <tr>\n      <th>1330</th>\n      <td>2017-01-03</td>\n      <td>27.57</td>\n      <td>27.620</td>\n      <td>27.000</td>\n      <td>27.39</td>\n      <td>6829108</td>\n      <td>27.254754</td>\n      <td>27.282810</td>\n      <td>2016-12-30</td>\n      <td>83.35</td>\n      <td>83.850</td>\n      <td>81.710</td>\n      <td>82.50</td>\n      <td>3277092</td>\n      <td>82.573600</td>\n      <td>82.575523</td>\n      <td>2016-12-30</td>\n      <td>-1.102620</td>\n    </tr>\n  </tbody>\n</table>\n<p>1331 rows × 18 columns</p>\n</div>"
     },
     "execution_count": 15,
     "metadata": {},
     "output_type": "execute_result"
    }
   ],
   "source": [
    "df['spread'] = np.log(df.mar_Close/df.hlt_Close**x)\n",
    "df"
   ],
   "metadata": {
    "collapsed": false,
    "pycharm": {
     "name": "#%%\n"
    }
   }
  },
  {
   "cell_type": "markdown",
   "metadata": {
    "pycharm": {
     "name": "#%% md\n"
    }
   },
   "source": [
    "## Step 4 Calculate Entry Signal"
   ]
  },
  {
   "cell_type": "code",
   "execution_count": null,
   "outputs": [],
   "source": [
    "low = lt_mean_spread - THRESHOLD * std_spread\n",
    "go_down = spread[:len(lt_mean_spread)] < low\n",
    "high = lt_mean_spread + THRESHOLD * std_spread\n",
    "go_up = spread[:len(lt_mean_spread)] > high\n",
    "date = df_mar.Date[:len(lt_mean_spread)]\n",
    "hlt_Open = df_hlt.hlt_Open[:len(lt_mean_spread)]\n",
    "mar_Open = df_mar.mar_Open[:len(lt_mean_spread)]\n",
    "\n",
    "mydf = pd.DataFrame(data = date)\n",
    "mydf['Low'] = go_down\n",
    "mydf['High'] = go_up\n",
    "mydf['hlt_Open'] = hlt_Open\n",
    "mydf['mar_Open'] = mar_Open\n",
    "mydf = mydf.reset_index()  # make sure indexes pair with number of rows\n"
   ],
   "metadata": {
    "collapsed": false,
    "pycharm": {
     "name": "#%%\n"
    }
   }
  },
  {
   "cell_type": "code",
   "execution_count": null,
   "outputs": [],
   "source": [],
   "metadata": {
    "collapsed": false,
    "pycharm": {
     "name": "#%%\n"
    }
   }
  },
  {
   "cell_type": "code",
   "execution_count": null,
   "outputs": [],
   "source": [
    "plt.figure(figsize=(20,15))\n",
    "plt.plot(spread[:len(lt_mean_spread)])\n",
    "plt.plot(low, linestyle='--')\n",
    "plt.plot(high,linestyle='--')"
   ],
   "metadata": {
    "collapsed": false,
    "pycharm": {
     "name": "#%%\n"
    }
   }
  },
  {
   "cell_type": "markdown",
   "source": [
    "## Step 5 Output as a Blotter\n",
    "Reference: <a href=\"https://pypi.org/project/QTPyLib/\" target=\"_blank\">QTPyLib 1.5.83</a>."
   ],
   "metadata": {
    "collapsed": false,
    "pycharm": {
     "name": "#%% md\n"
    }
   }
  },
  {
   "cell_type": "code",
   "execution_count": null,
   "outputs": [],
   "source": [
    "# !pip install blotter"
   ],
   "metadata": {
    "collapsed": false,
    "pycharm": {
     "name": "#%%\n"
    }
   }
  },
  {
   "cell_type": "code",
   "execution_count": null,
   "outputs": [],
   "source": [],
   "metadata": {
    "collapsed": false,
    "pycharm": {
     "name": "#%%\n"
    }
   }
  },
  {
   "cell_type": "code",
   "execution_count": null,
   "outputs": [],
   "source": [
    "\n",
    "blotter = pd.DataFrame(\n",
    "    columns=['date', 'trip', 'action', 'ticker', 'size',\n",
    "             'price', 'status']\n",
    ")\n",
    "for index, row in mydf.iterrows():\n",
    "    if row[\"Low\"] == True:\n",
    "        blotter.loc[len(blotter.index)] = [row[\"Date\"], 'Open', 'BUY', 'MAR', 1, row[\"mar_Open\"], 'FILLED']\n",
    "        blotter.loc[len(blotter.index)] = [row[\"Date\"], 'Open', 'SELL', 'HIT', 1, row[\"hlt_Open\"], 'FILLED']\n",
    "    elif row[\"High\"] == True:\n",
    "        blotter.loc[len(blotter.index)] = [row[\"Date\"], 'Open', 'SELL', 'MAR', 1, row[\"mar_Open\"], 'FILLED']\n",
    "        blotter.loc[len(blotter.index)] = [row[\"Date\"], 'Open', 'BUY', 'HIT', 1, row[\"hlt_Open\"], 'FILLED']\n"
   ],
   "metadata": {
    "collapsed": false,
    "pycharm": {
     "name": "#%%\n"
    }
   }
  },
  {
   "cell_type": "raw",
   "metadata": {
    "pycharm": {
     "name": "#%%\n"
    }
   },
   "source": []
  },
  {
   "cell_type": "code",
   "execution_count": 12,
   "metadata": {},
   "outputs": [
    {
     "data": {
      "text/html": [
       "<div>\n",
       "<style scoped>\n",
       "    .dataframe tbody tr th:only-of-type {\n",
       "        vertical-align: middle;\n",
       "    }\n",
       "\n",
       "    .dataframe tbody tr th {\n",
       "        vertical-align: top;\n",
       "    }\n",
       "\n",
       "    .dataframe thead th {\n",
       "        text-align: right;\n",
       "    }\n",
       "</style>\n",
       "<table border=\"1\" class=\"dataframe\">\n",
       "  <thead>\n",
       "    <tr style=\"text-align: right;\">\n",
       "      <th></th>\n",
       "      <th>date</th>\n",
       "      <th>trip</th>\n",
       "      <th>action</th>\n",
       "      <th>ticker</th>\n",
       "      <th>size</th>\n",
       "      <th>price</th>\n",
       "      <th>status</th>\n",
       "    </tr>\n",
       "  </thead>\n",
       "  <tbody>\n",
       "    <tr>\n",
       "      <th>0</th>\n",
       "      <td>2022-01-03</td>\n",
       "      <td>Open</td>\n",
       "      <td>SELL</td>\n",
       "      <td>MAR</td>\n",
       "      <td>1</td>\n",
       "      <td>155.95</td>\n",
       "      <td>FILLED</td>\n",
       "    </tr>\n",
       "    <tr>\n",
       "      <th>1</th>\n",
       "      <td>2022-01-03</td>\n",
       "      <td>Open</td>\n",
       "      <td>BUY</td>\n",
       "      <td>HIT</td>\n",
       "      <td>1</td>\n",
       "      <td>165.07</td>\n",
       "      <td>FILLED</td>\n",
       "    </tr>\n",
       "    <tr>\n",
       "      <th>2</th>\n",
       "      <td>2021-12-31</td>\n",
       "      <td>Open</td>\n",
       "      <td>SELL</td>\n",
       "      <td>MAR</td>\n",
       "      <td>1</td>\n",
       "      <td>154.83</td>\n",
       "      <td>FILLED</td>\n",
       "    </tr>\n",
       "    <tr>\n",
       "      <th>3</th>\n",
       "      <td>2021-12-31</td>\n",
       "      <td>Open</td>\n",
       "      <td>BUY</td>\n",
       "      <td>HIT</td>\n",
       "      <td>1</td>\n",
       "      <td>164.85</td>\n",
       "      <td>FILLED</td>\n",
       "    </tr>\n",
       "    <tr>\n",
       "      <th>4</th>\n",
       "      <td>2021-12-30</td>\n",
       "      <td>Open</td>\n",
       "      <td>SELL</td>\n",
       "      <td>MAR</td>\n",
       "      <td>1</td>\n",
       "      <td>155.38</td>\n",
       "      <td>FILLED</td>\n",
       "    </tr>\n",
       "    <tr>\n",
       "      <th>...</th>\n",
       "      <td>...</td>\n",
       "      <td>...</td>\n",
       "      <td>...</td>\n",
       "      <td>...</td>\n",
       "      <td>...</td>\n",
       "      <td>...</td>\n",
       "      <td>...</td>\n",
       "    </tr>\n",
       "    <tr>\n",
       "      <th>683</th>\n",
       "      <td>2018-02-01</td>\n",
       "      <td>Open</td>\n",
       "      <td>SELL</td>\n",
       "      <td>HIT</td>\n",
       "      <td>1</td>\n",
       "      <td>146.60</td>\n",
       "      <td>FILLED</td>\n",
       "    </tr>\n",
       "    <tr>\n",
       "      <th>684</th>\n",
       "      <td>2018-01-31</td>\n",
       "      <td>Open</td>\n",
       "      <td>BUY</td>\n",
       "      <td>MAR</td>\n",
       "      <td>1</td>\n",
       "      <td>86.52</td>\n",
       "      <td>FILLED</td>\n",
       "    </tr>\n",
       "    <tr>\n",
       "      <th>685</th>\n",
       "      <td>2018-01-31</td>\n",
       "      <td>Open</td>\n",
       "      <td>SELL</td>\n",
       "      <td>HIT</td>\n",
       "      <td>1</td>\n",
       "      <td>147.42</td>\n",
       "      <td>FILLED</td>\n",
       "    </tr>\n",
       "    <tr>\n",
       "      <th>686</th>\n",
       "      <td>2018-01-30</td>\n",
       "      <td>Open</td>\n",
       "      <td>BUY</td>\n",
       "      <td>MAR</td>\n",
       "      <td>1</td>\n",
       "      <td>86.50</td>\n",
       "      <td>FILLED</td>\n",
       "    </tr>\n",
       "    <tr>\n",
       "      <th>687</th>\n",
       "      <td>2018-01-30</td>\n",
       "      <td>Open</td>\n",
       "      <td>SELL</td>\n",
       "      <td>HIT</td>\n",
       "      <td>1</td>\n",
       "      <td>148.22</td>\n",
       "      <td>FILLED</td>\n",
       "    </tr>\n",
       "  </tbody>\n",
       "</table>\n",
       "<p>688 rows × 7 columns</p>\n",
       "</div>"
      ],
      "text/plain": [
       "           date  trip action ticker  size   price  status\n",
       "0    2022-01-03  Open   SELL    MAR     1  155.95  FILLED\n",
       "1    2022-01-03  Open    BUY    HIT     1  165.07  FILLED\n",
       "2    2021-12-31  Open   SELL    MAR     1  154.83  FILLED\n",
       "3    2021-12-31  Open    BUY    HIT     1  164.85  FILLED\n",
       "4    2021-12-30  Open   SELL    MAR     1  155.38  FILLED\n",
       "..          ...   ...    ...    ...   ...     ...     ...\n",
       "683  2018-02-01  Open   SELL    HIT     1  146.60  FILLED\n",
       "684  2018-01-31  Open    BUY    MAR     1   86.52  FILLED\n",
       "685  2018-01-31  Open   SELL    HIT     1  147.42  FILLED\n",
       "686  2018-01-30  Open    BUY    MAR     1   86.50  FILLED\n",
       "687  2018-01-30  Open   SELL    HIT     1  148.22  FILLED\n",
       "\n",
       "[688 rows x 7 columns]"
      ]
     },
     "execution_count": 12,
     "metadata": {},
     "output_type": "execute_result"
    }
   ],
   "source": [
    "\n",
    "blotter = pd.DataFrame(\n",
    "    columns=['date', 'trip', 'action', 'ticker', 'size',\n",
    "             'price', 'status']\n",
    ")\n",
    "for index, row in mydf.iterrows():\n",
    "    if row[\"Low\"] == True:\n",
    "        blotter.loc[len(blotter.index)] = [row[\"Date\"], 'Open', 'BUY', 'MAR', 1, row[\"mar_Open\"], 'FILLED']\n",
    "        blotter.loc[len(blotter.index)] = [row[\"Date\"], 'Open', 'SELL', 'HIT', 1, row[\"hlt_Open\"], 'FILLED']\n",
    "    elif row[\"High\"] == True:\n",
    "        blotter.loc[len(blotter.index)] = [row[\"Date\"], 'Open', 'SELL', 'MAR', 1, row[\"mar_Open\"], 'FILLED']\n",
    "        blotter.loc[len(blotter.index)] = [row[\"Date\"], 'Open', 'BUY', 'HIT', 1, row[\"hlt_Open\"], 'FILLED']\n"
   ]
  },
  {
   "cell_type": "code",
   "execution_count": null,
   "metadata": {},
   "outputs": [],
   "source": []
  }
 ],
 "metadata": {
  "kernelspec": {
   "display_name": "Python 3 (ipykernel)",
   "language": "python",
   "name": "python3"
  },
  "language_info": {
   "codemirror_mode": {
    "name": "ipython",
    "version": 3
   },
   "file_extension": ".py",
   "mimetype": "text/x-python",
   "name": "python",
   "nbconvert_exporter": "python",
   "pygments_lexer": "ipython3",
   "version": "3.9.10"
  }
 },
 "nbformat": 4,
 "nbformat_minor": 1
}